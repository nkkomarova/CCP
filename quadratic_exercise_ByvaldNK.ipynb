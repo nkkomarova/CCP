{
 "cells": [
  {
   "cell_type": "markdown",
   "metadata": {},
   "source": [
    "## Solve a quadratic equation, $x^2 + b x + c = 0$."
   ]
  },
  {
   "cell_type": "code",
   "execution_count": 113,
   "metadata": {},
   "outputs": [],
   "source": [
    "def solve_quad(b, c):\n",
    "    D = float(b**2 - 4*c)\n",
    "    if D>0 and b>1000:\n",
    "        x1=float((-b - math.sqrt(D))/2)\n",
    "        x2=c/x1\n",
    "        return(x1, x2)\n",
    "    if D>0 and b>0 and b<=1000:\n",
    "        x1=float((-b - math.sqrt(D))/2)\n",
    "        x2=float((-b + math.sqrt(D))/2)\n",
    "        return(x1, x2)\n",
    "    elif D>0 and b<0:\n",
    "        x1=float((-b + math.sqrt(D))/2)\n",
    "        x2=c/x1\n",
    "        return(x1, x2)\n",
    "    elif D==0:\n",
    "        return(complex((-b - complex(D)**0.5)/2), complex((-b - complex(D)**0.5)/2))\n",
    "    elif D<0:\n",
    "        return(complex((-b + cmath.sqrt(D))/2), complex((-b - cmath.sqrt(D))/2))"
   ]
  },
  {
   "cell_type": "code",
   "execution_count": 114,
   "metadata": {},
   "outputs": [],
   "source": [
    "import cmath\n",
    "import math"
   ]
  },
  {
   "cell_type": "markdown",
   "metadata": {},
   "source": [
    "Test the function"
   ]
  },
  {
   "cell_type": "code",
   "execution_count": 115,
   "metadata": {},
   "outputs": [],
   "source": [
    "from numpy import allclose"
   ]
  },
  {
   "cell_type": "code",
   "execution_count": 116,
   "metadata": {},
   "outputs": [],
   "source": [
    "variants = [{'b': 4.0, 'c': 3.0},\n",
    "            {'b': 2.0, 'c': 1.0},\n",
    "            {'b': 0.5, 'c': 4.0},\n",
    "            {'b': 1e10, 'c': 3.0},\n",
    "            {'b': -1e10, 'c': 4.0},]"
   ]
  },
  {
   "cell_type": "code",
   "execution_count": 117,
   "metadata": {},
   "outputs": [
    {
     "name": "stdout",
     "output_type": "stream",
     "text": [
      "True\n",
      "True\n",
      "True\n",
      "True\n",
      "True\n"
     ]
    }
   ],
   "source": [
    "for var in variants:\n",
    "    x1, x2 = solve_quad(**var)\n",
    "    print(allclose(x1*x2, var['c']))"
   ]
  },
  {
   "cell_type": "markdown",
   "metadata": {},
   "source": [
    "You will need to list solutions for last test's parameters (`{'b': -1e10, 'c': 4.0}`) in order to put them in respective field in Google Form for this lesson."
   ]
  },
  {
   "cell_type": "code",
   "execution_count": 118,
   "metadata": {},
   "outputs": [
    {
     "name": "stdout",
     "output_type": "stream",
     "text": [
      "10000000000.0 4e-10\n"
     ]
    }
   ],
   "source": [
    "b=-1e10\n",
    "c=4.0\n",
    "print(x1,x2)"
   ]
  },
  {
   "cell_type": "code",
   "execution_count": null,
   "metadata": {},
   "outputs": [],
   "source": []
  }
 ],
 "metadata": {
  "kernelspec": {
   "display_name": "Python 3",
   "language": "python",
   "name": "python3"
  },
  "language_info": {
   "codemirror_mode": {
    "name": "ipython",
    "version": 3
   },
   "file_extension": ".py",
   "mimetype": "text/x-python",
   "name": "python",
   "nbconvert_exporter": "python",
   "pygments_lexer": "ipython3",
   "version": "3.7.3"
  }
 },
 "nbformat": 4,
 "nbformat_minor": 2
}
